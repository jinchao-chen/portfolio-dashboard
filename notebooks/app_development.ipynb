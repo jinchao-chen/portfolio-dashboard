{
 "cells": [
  {
   "cell_type": "markdown",
   "id": "explicit-function",
   "metadata": {},
   "source": [
    "## to do \n",
    "\n",
    "1. rename the columns use more intuitive names\n",
    "1. implement usd to euro conversion for the yahoo timeseries"
   ]
  },
  {
   "cell_type": "code",
   "execution_count": 1,
   "id": "decreased-jumping",
   "metadata": {},
   "outputs": [],
   "source": [
    "%config Completer.use_jedi = False"
   ]
  },
  {
   "cell_type": "code",
   "execution_count": 2,
   "id": "statistical-marriage",
   "metadata": {},
   "outputs": [],
   "source": [
    "import sys"
   ]
  },
  {
   "cell_type": "code",
   "execution_count": 3,
   "id": "quarterly-lighter",
   "metadata": {},
   "outputs": [],
   "source": [
    "sys.path.append(\"../scr\")"
   ]
  },
  {
   "cell_type": "code",
   "execution_count": 4,
   "id": "indie-recognition",
   "metadata": {},
   "outputs": [],
   "source": [
    "import sys\n",
    "from datetime import datetime, timedelta\n",
    "\n",
    "import altair as alt\n",
    "import numpy as np\n",
    "import pandas as pd\n",
    "import panel as pn\n",
    "import yfinance as yf\n",
    "from altair import datum\n",
    "from utility import (\n",
    "    plot_transactions,\n",
    "    plot_transactions_2,\n",
    "    read_ticker_ts,\n",
    "    read_transactions,\n",
    ")\n",
    "\n",
    "from datetime import date, timedelta"
   ]
  },
  {
   "cell_type": "code",
   "execution_count": 5,
   "id": "static-expression",
   "metadata": {},
   "outputs": [],
   "source": [
    "import plotly.graph_objs as go\n",
    "import plotly.express as px"
   ]
  },
  {
   "cell_type": "code",
   "execution_count": 6,
   "id": "distributed-command",
   "metadata": {},
   "outputs": [],
   "source": [
    "import plotly.io as pio\n",
    "pio.templates.default = 'plotly_white'"
   ]
  },
  {
   "cell_type": "code",
   "execution_count": 7,
   "id": "delayed-ordinance",
   "metadata": {},
   "outputs": [],
   "source": [
    "fln = \"../data/trasaction_history_18022021.csv\"\n",
    "tr = read_transactions(fln) "
   ]
  },
  {
   "cell_type": "markdown",
   "id": "understanding-moral",
   "metadata": {},
   "source": [
    "## data preparation"
   ]
  },
  {
   "cell_type": "markdown",
   "id": "academic-start",
   "metadata": {},
   "source": [
    "### keep only the relavant columns"
   ]
  },
  {
   "cell_type": "code",
   "execution_count": 8,
   "id": "satisfactory-reputation",
   "metadata": {},
   "outputs": [],
   "source": [
    "col_to_keep = ['Action', 'Time', 'Ticker', 'No. of shares', 'Price / share', 'Exchange rate',\n",
    "               'Result (EUR)', 'Currency (Price / share)', 'ISIN']\n",
    "\n",
    "tr = tr[col_to_keep]"
   ]
  },
  {
   "cell_type": "markdown",
   "id": "general-hearts",
   "metadata": {},
   "source": [
    "### rename columns"
   ]
  },
  {
   "cell_type": "code",
   "execution_count": 9,
   "id": "suitable-document",
   "metadata": {
    "scrolled": true
   },
   "outputs": [],
   "source": [
    "tr.loc[tr['Action'].str.contains(\"buy\"), 'Action'] = 'buy'\n",
    "tr.loc[tr['Action'].str.contains(\"sell\"), 'Action'] = 'sell'"
   ]
  },
  {
   "cell_type": "markdown",
   "id": "warming-vulnerability",
   "metadata": {},
   "source": [
    "### feature engineering\n",
    "\n",
    "use the transaction history to determine\n",
    "- invested amount\n",
    "- average price after each trasaction\n",
    "- profit after each action \n"
   ]
  },
  {
   "cell_type": "code",
   "execution_count": 10,
   "id": "polyphonic-blame",
   "metadata": {},
   "outputs": [],
   "source": [
    "def calculate_average_price(group):\n",
    "    '''calculate the average price based on the invested value and floating number of shares'''\n",
    "\n",
    "    # cumulative total in euro (buy price*share - average_price*sell)\n",
    "    group['cum_total_eur'] = group['invested_eur'].cumsum()\n",
    "    group['ave_price_eur'] = group['cum_total_eur']/group['cum_shares']\n",
    "\n",
    "    return group\n",
    "\n",
    "\n",
    "def calculate_return(group):\n",
    "    \"\"\"Update transaction time history, include calculation of average price\n",
    "    \"\"\"\n",
    "\n",
    "    mask_buy = group[\"Action\"] == 'buy'\n",
    "    mask_sell = group[\"Action\"] == 'sell'\n",
    "\n",
    "    # determine the accumulated number of shares\n",
    "    group.loc[mask_buy,'action_sign']= 1\n",
    "    group.loc[mask_sell,'action_sign']= -1\n",
    "    \n",
    "    group['cum_shares'] = (group['No. of shares'] *\n",
    "                           group['action_sign']).cumsum()\n",
    "\n",
    "    # average price, treating all actions as buy\n",
    "    group['pps_eur'] = group['Price / share'] / \\\n",
    "        group['Exchange rate'].astype('float')  # price per share in eur\n",
    "    group['invested_eur'] = group['No. of shares']*group['pps_eur']\n",
    "    group = calculate_average_price(group)\n",
    "\n",
    "    # update the ave_price whenever a sell event occurs\n",
    "    for idx, row in group[mask_sell].iterrows():\n",
    "        group.loc[idx, 'invested_eur'] = -group.loc[idx,'No. of shares']*group.loc[idx-1, 'ave_price_eur']\n",
    "        group.loc[idx, 'ave_price_eur'] = group.loc[idx-1, 'ave_price_eur']\n",
    "        group = calculate_average_price(group)\n",
    "\n",
    "    # determine the return for each sell event\n",
    "    group.loc[mask_sell, 'profit_eur'] = group.loc[mask_sell, 'pps_eur']*group.loc[mask_sell, 'No. of shares'] + \\\n",
    "        group.loc[mask_sell, 'invested_eur']\n",
    "\n",
    "    return group"
   ]
  },
  {
   "cell_type": "code",
   "execution_count": 11,
   "id": "awful-fundamentals",
   "metadata": {},
   "outputs": [],
   "source": [
    "tr=tr.loc[tr['Action'].isin(['buy','sell'])]\n",
    "grouped = tr.groupby(by='Ticker')\n",
    "\n",
    "groups = []  \n",
    "\n",
    "for name , group in grouped:\n",
    "    group.reset_index(inplace=True, drop=True)\n",
    "    group = calculate_return(group)\n",
    "    groups.append(group)\n",
    "    \n",
    "tr = pd.concat(groups).reset_index(drop=True)"
   ]
  },
  {
   "cell_type": "markdown",
   "id": "considered-probe",
   "metadata": {},
   "source": [
    "### read ticker history from yfiance"
   ]
  },
  {
   "cell_type": "code",
   "execution_count": 13,
   "id": "radio-thanksgiving",
   "metadata": {},
   "outputs": [],
   "source": [
    "tickers = tr[['Ticker', 'Currency (Price / share)', 'ISIN']].drop_duplicates()\n",
    "tickers.rename({'Currency (Price / share)': 'Currency'}, axis=1, inplace=True)\n",
    "# tickers = tickers.dropna(subset=['Ticker'])\n",
    "us_tickers = tickers.loc[tickers['Currency']=='USD', 'Ticker'].to_list()\n",
    "# us_tickers.append('USDEUR%3DX')"
   ]
  },
  {
   "cell_type": "code",
   "execution_count": 14,
   "id": "great-embassy",
   "metadata": {},
   "outputs": [
    {
     "name": "stdout",
     "output_type": "stream",
     "text": [
      "[*********************100%***********************]  36 of 36 completed\n",
      "\n",
      "1 Failed download:\n",
      "- LTM: No data found, symbol may be delisted\n"
     ]
    }
   ],
   "source": [
    "start = tr.Time.min()\n",
    "end = tr.Time.max() +  timedelta(1)\n",
    "data = yf.download(us_tickers, start, end)['Adj Close']"
   ]
  },
  {
   "cell_type": "code",
   "execution_count": 15,
   "id": "united-hello",
   "metadata": {},
   "outputs": [
    {
     "name": "stdout",
     "output_type": "stream",
     "text": [
      "[*********************100%***********************]  1 of 1 completed\n"
     ]
    }
   ],
   "source": [
    "df_forex = yf.download(['USDEUR%3DX'], start, end)[['Adj Close']]\n",
    "df_forex = df_forex.reset_index()\n",
    "df_forex.rename({'Date':\"date\", 'Adj Close':\"rate\"}, axis = 1, inplace=1)"
   ]
  },
  {
   "cell_type": "markdown",
   "id": "identified-cemetery",
   "metadata": {},
   "source": [
    "### identify tickers not downloaded"
   ]
  },
  {
   "cell_type": "code",
   "execution_count": 16,
   "id": "political-arcade",
   "metadata": {},
   "outputs": [],
   "source": [
    "mask = data.isna().mean() == 1.0"
   ]
  },
  {
   "cell_type": "code",
   "execution_count": 17,
   "id": "governmental-franklin",
   "metadata": {},
   "outputs": [],
   "source": [
    "not_found = mask.loc[mask].keys().values"
   ]
  },
  {
   "cell_type": "code",
   "execution_count": 18,
   "id": "secret-trust",
   "metadata": {
    "scrolled": true
   },
   "outputs": [
    {
     "name": "stdout",
     "output_type": "stream",
     "text": [
      "these tickers are not included in the time history: ['LTM']\n"
     ]
    }
   ],
   "source": [
    "print(f'these tickers are not included in the time history: {not_found}')"
   ]
  },
  {
   "cell_type": "markdown",
   "id": "knowing-copper",
   "metadata": {},
   "source": [
    "### combine yahoo time history with transaction data"
   ]
  },
  {
   "cell_type": "code",
   "execution_count": 19,
   "id": "flexible-bailey",
   "metadata": {},
   "outputs": [],
   "source": [
    "# retrieve stock value at close\n",
    "def ticker_price_history(data, ticker):\n",
    "    \"\"\"filter time history of the specifed ticker, history of ticker close price \"\"\"\n",
    "    tts_sub = data[ticker]  # ticker time series\n",
    "    tts_sub = tts_sub.reset_index()\n",
    "#     tts_sub.columns = tts_sub.columns.droplevel()\n",
    "    tts_sub.columns = ['time_ts', 'close_price']\n",
    "\n",
    "    return tts_sub"
   ]
  },
  {
   "cell_type": "code",
   "execution_count": 20,
   "id": "raised-exemption",
   "metadata": {},
   "outputs": [],
   "source": [
    "def merge_histories(tr_sub, tts_sub, ticker):\n",
    "    \"\"\"merge dataframe based on date and time\n",
    "\n",
    "    note: invested amount is determined based on the market price at close, rather than the transaction record\n",
    "    \"\"\"\n",
    "    merged = tts_sub.merge(right=tr_sub, left_on='time_ts',\n",
    "                           right_on='Time', how=\"outer\")\n",
    "    merged = merged.merge(df_forex, left_on = 'time_ts', right_on='date')\n",
    "    merged['cum_shares'] = merged['cum_shares'].fillna(method='ffill')\n",
    "    merged['value'] = merged['close_price']*merged['cum_shares']*merged['rate']\n",
    "    merged['ticker'] = ticker\n",
    "    merged['cum_total_eur'] = merged['cum_total_eur'].fillna(\n",
    "        method='ffill')\n",
    "    merged['value'] = merged['value'].fillna(\n",
    "        method='ffill')\n",
    "    return merged"
   ]
  },
  {
   "cell_type": "code",
   "execution_count": 21,
   "id": "thick-carter",
   "metadata": {
    "scrolled": false
   },
   "outputs": [
    {
     "ename": "NameError",
     "evalue": "name 'tickers_to_drop' is not defined",
     "output_type": "error",
     "traceback": [
      "\u001b[0;31m---------------------------------------------------------------------------\u001b[0m",
      "\u001b[0;31mNameError\u001b[0m                                 Traceback (most recent call last)",
      "\u001b[0;32m<ipython-input-21-7069ae66927d>\u001b[0m in \u001b[0;36m<module>\u001b[0;34m\u001b[0m\n\u001b[1;32m      5\u001b[0m \u001b[0;34m\u001b[0m\u001b[0m\n\u001b[1;32m      6\u001b[0m \u001b[0;32mfor\u001b[0m \u001b[0mticker\u001b[0m \u001b[0;32min\u001b[0m \u001b[0mtickers\u001b[0m\u001b[0;34m:\u001b[0m\u001b[0;34m\u001b[0m\u001b[0;34m\u001b[0m\u001b[0m\n\u001b[0;32m----> 7\u001b[0;31m     \u001b[0;32mif\u001b[0m \u001b[0mticker\u001b[0m \u001b[0;32mnot\u001b[0m \u001b[0;32min\u001b[0m \u001b[0mtickers_to_drop\u001b[0m\u001b[0;34m:\u001b[0m\u001b[0;34m\u001b[0m\u001b[0;34m\u001b[0m\u001b[0m\n\u001b[0m\u001b[1;32m      8\u001b[0m         \u001b[0;31m# share_no_history(tr_pivoted,ticker)\u001b[0m\u001b[0;34m\u001b[0m\u001b[0;34m\u001b[0m\u001b[0;34m\u001b[0m\u001b[0m\n\u001b[1;32m      9\u001b[0m         tr_sub = groups.get_group(\n",
      "\u001b[0;31mNameError\u001b[0m: name 'tickers_to_drop' is not defined"
     ]
    }
   ],
   "source": [
    "# loop it through for all the tickers:\n",
    "dfs = []\n",
    "groups = tr.groupby(by='Ticker')\n",
    "tickers = data.columns\n",
    "\n",
    "for ticker in tickers:\n",
    "    if ticker not in not_found:\n",
    "        # share_no_history(tr_pivoted,ticker)\n",
    "        tr_sub = groups.get_group(\n",
    "            ticker)[['Time', 'Ticker', 'cum_shares', 'cum_total_eur', 'profit_eur']]\n",
    "        tts_sub = ticker_price_history(data, ticker)\n",
    "        df = merge_histories(tr_sub, tts_sub, ticker)\n",
    "\n",
    "        dfs.append(df)\n",
    "    else:\n",
    "        print(f'{ticker} not in the database')\n",
    "\n",
    "df_combined = pd.concat(dfs)"
   ]
  },
  {
   "cell_type": "code",
   "execution_count": null,
   "id": "extreme-equation",
   "metadata": {},
   "outputs": [],
   "source": []
  },
  {
   "cell_type": "markdown",
   "id": "muslim-terrace",
   "metadata": {},
   "source": [
    "## monthly transaction overview"
   ]
  },
  {
   "cell_type": "markdown",
   "id": "mysterious-jenny",
   "metadata": {},
   "source": [
    "Hereby I will create an overview of total transacations"
   ]
  },
  {
   "cell_type": "code",
   "execution_count": null,
   "id": "aging-brook",
   "metadata": {},
   "outputs": [],
   "source": [
    "mt = (\n",
    "    tr.groupby(by=[pd.Grouper(key=\"Time\", freq=\"M\"), \"Action\"])[\"Action\"]\n",
    "    .count()\n",
    "    .rename(\"transactions\")\n",
    "    .reset_index()\n",
    ")  # montly transaction"
   ]
  },
  {
   "cell_type": "code",
   "execution_count": null,
   "id": "revolutionary-service",
   "metadata": {
    "scrolled": false
   },
   "outputs": [],
   "source": [
    "fig = go.Figure()\n",
    "\n",
    "# reformat the date_time to provide a monthly summary (do not show the date)\n",
    "mt['mnth_yr'] = mt['Time'].apply(lambda x: x.strftime('%b-%Y'))\n",
    "\n",
    "for action in ['buy', 'sell']:\n",
    "    mt_ = mt.loc[mt['Action'] == action]\n",
    "    fig.add_trace(go.Bar(\n",
    "        x=mt_.mnth_yr,\n",
    "        y=mt_.transactions,\n",
    "        name=action,\n",
    "    ))\n",
    "\n",
    "fig.update_layout(barmode='group', xaxis_tickangle=-45, title_text='monthly transactions overview',\n",
    "                  yaxis=dict(\n",
    "                      title='transaction counts',\n",
    "                  ))\n",
    "fig.show()"
   ]
  },
  {
   "cell_type": "markdown",
   "id": "creative-cowboy",
   "metadata": {},
   "source": [
    "## latest portofolio\n",
    "\n",
    "1. what are the stocks in my pf?\n",
    "1. total value (weekly overview)"
   ]
  },
  {
   "cell_type": "markdown",
   "id": "passive-sample",
   "metadata": {},
   "source": [
    "### pie chart of portofolio composition"
   ]
  },
  {
   "cell_type": "code",
   "execution_count": null,
   "id": "genuine-haiti",
   "metadata": {
    "scrolled": false
   },
   "outputs": [],
   "source": [
    "df_end = df_combined.loc[(df_combined['time_ts'] == end -\n",
    "                          timedelta(1)) & (df_combined['cum_shares'] > 0.25)]\n",
    "df_end = df_end.drop_duplicates(\n",
    "    subset=['time_ts', 'Ticker'], keep='last', inplace=False, ignore_index=False)"
   ]
  },
  {
   "cell_type": "code",
   "execution_count": null,
   "id": "particular-european",
   "metadata": {
    "scrolled": false
   },
   "outputs": [],
   "source": [
    "import plotly.express as px\n",
    "\n",
    "fig = px.pie(df_end, values='value', names='ticker')\n",
    "fig.show()"
   ]
  },
  {
   "cell_type": "markdown",
   "id": "short-possibility",
   "metadata": {},
   "source": [
    "### line plot for portofolio ts"
   ]
  },
  {
   "cell_type": "code",
   "execution_count": null,
   "id": "coated-election",
   "metadata": {
    "scrolled": false
   },
   "outputs": [],
   "source": [
    "df_combined = df_combined.drop_duplicates(\n",
    "    subset=['time_ts', 'ticker'], keep='last', inplace=False, ignore_index=False)\n",
    "\n",
    "# df_agg = df_combined.pivot_table(index='time_ts', values=[\n",
    "#                                  'value', 'cum_total_eur'], aggfunc='sum').reset_index()"
   ]
  },
  {
   "cell_type": "code",
   "execution_count": null,
   "id": "strange-culture",
   "metadata": {},
   "outputs": [],
   "source": [
    "df_agg = df_combined.pivot_table(index='time_ts', values=[\n",
    "                                 'value', 'cum_total_eur', 'profit_eur'], aggfunc='sum').reset_index()"
   ]
  },
  {
   "cell_type": "code",
   "execution_count": null,
   "id": "destroyed-economics",
   "metadata": {},
   "outputs": [],
   "source": [
    "df_agg['realized_profit'] = df_agg['profit_eur'].cumsum()\n",
    "df_agg['floating_profit'] = df_agg['value'] - df_agg['cum_total_eur']"
   ]
  },
  {
   "cell_type": "code",
   "execution_count": null,
   "id": "authorized-cream",
   "metadata": {
    "scrolled": false
   },
   "outputs": [],
   "source": [
    "df = px.data.stocks()\n",
    "\n",
    "fig = px.line(df_agg, x=\"time_ts\", y=['value','cum_total_eur'],\n",
    "              hover_data={\"time_ts\": \"|%B %d, %Y\"},\n",
    "              title='Overview'\n",
    "              )\n",
    "\n",
    "fig.update_xaxes(\n",
    "    dtick=\"M1\",\n",
    "    tickformat=\"%b\\n%Y\")\n",
    "\n",
    "fig.update_layout(hovermode=\"x\")\n",
    "\n",
    "fig.show()"
   ]
  },
  {
   "cell_type": "markdown",
   "id": "coral-webster",
   "metadata": {},
   "source": [
    "### brief summary"
   ]
  },
  {
   "cell_type": "code",
   "execution_count": null,
   "id": "mental-return",
   "metadata": {
    "scrolled": false
   },
   "outputs": [],
   "source": [
    "last_row = df_agg.tail(1)"
   ]
  },
  {
   "cell_type": "code",
   "execution_count": null,
   "id": "express-reputation",
   "metadata": {},
   "outputs": [],
   "source": [
    "print('A brief summary')\n",
    "print(\"You started investing with Trading 212 on {:}.\".format(\n",
    "    start.strftime(\"%b %d, %Y\")))\n",
    "print(\"Upon {:}, you've invested {:0.2f} EUR in the market, with a floating profit of {:0.2f} EUR. Total realized profit amounts {:0.2f} EUR\".format(\n",
    "    end.strftime(\"%b %d, %Y\"), \n",
    "    last_row.cum_total_eur.values[0],\n",
    "    last_row.floating_profit.values[0],\n",
    "    last_row.realized_profit.values[0]))"
   ]
  },
  {
   "cell_type": "markdown",
   "id": "intermediate-planning",
   "metadata": {},
   "source": [
    "### line plot of profit and loss"
   ]
  },
  {
   "cell_type": "code",
   "execution_count": null,
   "id": "neutral-boost",
   "metadata": {
    "scrolled": false
   },
   "outputs": [],
   "source": [
    "df = px.data.stocks()\n",
    "\n",
    "fig = px.line(df_agg, x=\"time_ts\", y=['floating_profit','realized_profit'],\n",
    "              hover_data={\"time_ts\": \"|%B %d, %Y\"},\n",
    "              title='Overview'\n",
    "              )\n",
    "\n",
    "\n",
    "fig.add_trace(go.Scatter(\n",
    "    name=\"total\",\n",
    "    x=df_agg[\"time_ts\"], y=df_agg['floating_profit'] + df_agg['realized_profit'],\n",
    "))\n",
    "\n",
    "fig.update_xaxes(\n",
    "    dtick=\"M1\",\n",
    "    tickformat=\"%b\\n%Y\")\n",
    "\n",
    "fig.update_layout(hovermode=\"x\")\n",
    "\n",
    "fig.show()"
   ]
  },
  {
   "cell_type": "markdown",
   "id": "formed-powder",
   "metadata": {},
   "source": [
    "## stock analysis"
   ]
  },
  {
   "cell_type": "markdown",
   "id": "modern-prague",
   "metadata": {},
   "source": [
    "### correlation analysis"
   ]
  },
  {
   "cell_type": "code",
   "execution_count": null,
   "id": "sustainable-still",
   "metadata": {},
   "outputs": [],
   "source": [
    "from matplotlib import pyplot as plt\n",
    "cols = df_end.Ticker.dropna().unique()\n",
    "retscomp = data.loc[:,  cols]\n",
    "retscomp = retscomp.pct_change()\n",
    "corr = retscomp.corr()"
   ]
  },
  {
   "cell_type": "code",
   "execution_count": null,
   "id": "compact-provincial",
   "metadata": {},
   "outputs": [],
   "source": [
    "import plotly.graph_objects as go\n",
    "\n",
    "fig = go.Figure(data=go.Heatmap(\n",
    "    z=corr,\n",
    "    x=cols,\n",
    "    y=cols,\n",
    "    colorscale='Hot',\n",
    "    reversescale=True,\n",
    "    zmax=1.0,\n",
    "    zmin=0.0))\n",
    "\n",
    "fig.update_layout(\n",
    "    autosize=False,\n",
    "    width=600,\n",
    "    height=600,)\n",
    "\n",
    "fig.show()"
   ]
  },
  {
   "cell_type": "markdown",
   "id": "earlier-component",
   "metadata": {},
   "source": [
    "### Stocks mean and Risk calculation"
   ]
  },
  {
   "cell_type": "code",
   "execution_count": null,
   "id": "informational-geneva",
   "metadata": {},
   "outputs": [],
   "source": []
  },
  {
   "cell_type": "code",
   "execution_count": null,
   "id": "modern-pixel",
   "metadata": {},
   "outputs": [],
   "source": [
    "y=retscomp.std()"
   ]
  },
  {
   "cell_type": "code",
   "execution_count": null,
   "id": "dominant-stock",
   "metadata": {
    "scrolled": false
   },
   "outputs": [],
   "source": [
    "\n",
    "fig = px.scatter(x=retscomp.mean(), y=retscomp.std(), text=cols)\n",
    "fig.update_traces(textposition='top center')\n",
    "fig.update_layout(\n",
    "#     height=800,\n",
    "    title_text='Return and Risk',\n",
    "    xaxis_title=\"Return\",\n",
    "    yaxis_title=\"Risk\",\n",
    ")\n",
    "fig.show()"
   ]
  },
  {
   "cell_type": "code",
   "execution_count": null,
   "id": "exceptional-scott",
   "metadata": {},
   "outputs": [],
   "source": [
    "cols"
   ]
  },
  {
   "cell_type": "markdown",
   "id": "exclusive-robertson",
   "metadata": {},
   "source": [
    "## return ratio variation over time"
   ]
  },
  {
   "cell_type": "code",
   "execution_count": null,
   "id": "united-breath",
   "metadata": {},
   "outputs": [],
   "source": []
  }
 ],
 "metadata": {
  "kernelspec": {
   "display_name": "Python 3",
   "language": "python",
   "name": "python3"
  },
  "language_info": {
   "codemirror_mode": {
    "name": "ipython",
    "version": 3
   },
   "file_extension": ".py",
   "mimetype": "text/x-python",
   "name": "python",
   "nbconvert_exporter": "python",
   "pygments_lexer": "ipython3",
   "version": "3.8.5"
  },
  "toc": {
   "base_numbering": 1,
   "nav_menu": {},
   "number_sections": true,
   "sideBar": true,
   "skip_h1_title": false,
   "title_cell": "Table of Contents",
   "title_sidebar": "Contents",
   "toc_cell": false,
   "toc_position": {
    "height": "calc(100% - 180px)",
    "left": "10px",
    "top": "150px",
    "width": "165px"
   },
   "toc_section_display": true,
   "toc_window_display": true
  }
 },
 "nbformat": 4,
 "nbformat_minor": 5
}
