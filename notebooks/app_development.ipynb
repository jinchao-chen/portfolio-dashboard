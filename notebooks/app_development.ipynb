{
 "cells": [
  {
   "cell_type": "markdown",
   "id": "placed-sydney",
   "metadata": {},
   "source": [
    "## to do \n",
    "\n",
    "1. rename the columns use more intuitive names\n",
    "1. implement usd to euro conversion for the yahoo timeseries"
   ]
  },
  {
   "cell_type": "code",
   "execution_count": 1,
   "id": "swiss-farmer",
   "metadata": {},
   "outputs": [],
   "source": [
    "%config Completer.use_jedi = False"
   ]
  },
  {
   "cell_type": "code",
   "execution_count": 2,
   "id": "excellent-merchant",
   "metadata": {},
   "outputs": [],
   "source": [
    "import sys"
   ]
  },
  {
   "cell_type": "code",
   "execution_count": 5,
   "id": "complimentary-protection",
   "metadata": {},
   "outputs": [],
   "source": [
    "sys.path.append(\"../streamlit_app\")"
   ]
  },
  {
   "cell_type": "code",
   "execution_count": 6,
   "id": "colonial-belfast",
   "metadata": {},
   "outputs": [],
   "source": [
    "import sys\n",
    "from datetime import datetime, timedelta\n",
    "\n",
    "import altair as alt\n",
    "import numpy as np\n",
    "import pandas as pd\n",
    "import panel as pn\n",
    "import yfinance as yf\n",
    "from altair import datum\n",
    "from utility import (\n",
    "    plot_transactions,\n",
    "    plot_transactions_2,\n",
    "    read_ticker_ts,\n",
    "    read_transactions,\n",
    ")\n",
    "\n",
    "from datetime import date, timedelta"
   ]
  },
  {
   "cell_type": "code",
   "execution_count": 7,
   "id": "given-official",
   "metadata": {},
   "outputs": [],
   "source": [
    "import plotly.graph_objs as go\n",
    "import plotly.express as px"
   ]
  },
  {
   "cell_type": "code",
   "execution_count": 8,
   "id": "embedded-improvement",
   "metadata": {},
   "outputs": [],
   "source": [
    "import plotly.io as pio\n",
    "pio.templates.default = 'plotly_white'"
   ]
  },
  {
   "cell_type": "code",
   "execution_count": 9,
   "id": "proprietary-aside",
   "metadata": {},
   "outputs": [],
   "source": [
    "fln = \"../data/trasaction_history_18022021.csv\"\n",
    "tr = read_transactions(fln) "
   ]
  },
  {
   "cell_type": "code",
   "execution_count": null,
   "id": "e2828bd0",
   "metadata": {},
   "outputs": [],
   "source": []
  },
  {
   "cell_type": "markdown",
   "id": "signed-cause",
   "metadata": {},
   "source": [
    "## data preparation"
   ]
  },
  {
   "cell_type": "markdown",
   "id": "internal-running",
   "metadata": {},
   "source": [
    "### keep only the relavant columns"
   ]
  },
  {
   "cell_type": "code",
   "execution_count": 10,
   "id": "patient-feeling",
   "metadata": {},
   "outputs": [],
   "source": [
    "col_to_keep = ['Action', 'Time', 'Ticker', 'No. of shares', 'Price / share', 'Exchange rate',\n",
    "               'Result (EUR)', 'Currency (Price / share)', 'ISIN']\n",
    "\n",
    "tr = tr[col_to_keep]"
   ]
  },
  {
   "cell_type": "markdown",
   "id": "maritime-cookie",
   "metadata": {},
   "source": [
    "### rename columns"
   ]
  },
  {
   "cell_type": "code",
   "execution_count": 11,
   "id": "humanitarian-authority",
   "metadata": {
    "scrolled": true
   },
   "outputs": [],
   "source": [
    "tr.loc[tr['Action'].str.contains(\"buy\"), 'Action'] = 'buy'\n",
    "tr.loc[tr['Action'].str.contains(\"sell\"), 'Action'] = 'sell'"
   ]
  },
  {
   "cell_type": "markdown",
   "id": "accomplished-frequency",
   "metadata": {},
   "source": [
    "### feature engineering\n",
    "\n",
    "use the transaction history to determine\n",
    "- invested amount\n",
    "- average price after each trasaction\n",
    "- profit after each action \n"
   ]
  },
  {
   "cell_type": "code",
   "execution_count": 12,
   "id": "structural-tribute",
   "metadata": {},
   "outputs": [],
   "source": [
    "def calculate_average_price(group):\n",
    "    '''calculate the average price based on the invested value and floating number of shares'''\n",
    "\n",
    "    # cumulative total in euro (buy price*share - average_price*sell)\n",
    "    group['cum_total_eur'] = group['invested_eur'].cumsum()\n",
    "    group['ave_price_eur'] = group['cum_total_eur']/group['cum_shares']\n",
    "\n",
    "    return group\n",
    "\n",
    "\n",
    "def calculate_return(group):\n",
    "    \"\"\"Update transaction time history, include calculation of average price\n",
    "    \"\"\"\n",
    "\n",
    "    mask_buy = group[\"Action\"] == 'buy'\n",
    "    mask_sell = group[\"Action\"] == 'sell'\n",
    "\n",
    "    # determine the accumulated number of shares\n",
    "    group.loc[mask_buy,'action_sign']= 1\n",
    "    group.loc[mask_sell,'action_sign']= -1\n",
    "    \n",
    "    group['cum_shares'] = (group['No. of shares'] *\n",
    "                           group['action_sign']).cumsum()\n",
    "\n",
    "    # average price, treating all actions as buy\n",
    "    group['pps_eur'] = group['Price / share'] / \\\n",
    "        group['Exchange rate'].astype('float')  # price per share in eur\n",
    "    group['invested_eur'] = group['No. of shares']*group['pps_eur']\n",
    "    group = calculate_average_price(group)\n",
    "\n",
    "    # update the ave_price whenever a sell event occurs\n",
    "    for idx, row in group[mask_sell].iterrows():\n",
    "        group.loc[idx, 'invested_eur'] = -group.loc[idx,'No. of shares']*group.loc[idx-1, 'ave_price_eur']\n",
    "        group.loc[idx, 'ave_price_eur'] = group.loc[idx-1, 'ave_price_eur']\n",
    "        group = calculate_average_price(group)\n",
    "\n",
    "    # determine the return for each sell event\n",
    "    group.loc[mask_sell, 'profit_eur'] = group.loc[mask_sell, 'pps_eur']*group.loc[mask_sell, 'No. of shares'] + \\\n",
    "        group.loc[mask_sell, 'invested_eur']\n",
    "\n",
    "    return group"
   ]
  },
  {
   "cell_type": "code",
   "execution_count": 13,
   "id": "romantic-brighton",
   "metadata": {},
   "outputs": [],
   "source": [
    "tr=tr.loc[tr['Action'].isin(['buy','sell'])]\n",
    "grouped = tr.groupby(by='Ticker')\n",
    "\n",
    "groups = []  \n",
    "\n",
    "for name , group in grouped:\n",
    "    group.reset_index(inplace=True, drop=True)\n",
    "    group = calculate_return(group)\n",
    "    groups.append(group)\n",
    "    \n",
    "tr = pd.concat(groups).reset_index(drop=True)"
   ]
  },
  {
   "cell_type": "markdown",
   "id": "electric-reaction",
   "metadata": {},
   "source": [
    "### read ticker history from yfiance"
   ]
  },
  {
   "cell_type": "code",
   "execution_count": 14,
   "id": "computational-vulnerability",
   "metadata": {},
   "outputs": [],
   "source": [
    "tickers = tr[['Ticker', 'Currency (Price / share)', 'ISIN']].drop_duplicates()\n",
    "tickers.rename({'Currency (Price / share)': 'Currency'}, axis=1, inplace=True)\n",
    "# tickers = tickers.dropna(subset=['Ticker'])\n",
    "us_tickers = tickers.loc[tickers['Currency']=='USD', 'Ticker'].to_list()\n",
    "# us_tickers.append('USDEUR%3DX')"
   ]
  },
  {
   "cell_type": "code",
   "execution_count": 15,
   "id": "graduate-grace",
   "metadata": {
    "scrolled": true
   },
   "outputs": [
    {
     "name": "stdout",
     "output_type": "stream",
     "text": [
      "[*********************100%***********************]  36 of 36 completed\n",
      "\n",
      "1 Failed download:\n",
      "- LTM: No data found, symbol may be delisted\n"
     ]
    }
   ],
   "source": [
    "start = tr.Time.min()\n",
    "end = tr.Time.max() +  timedelta(1)\n",
    "data = yf.download(us_tickers, start, end)['Adj Close']"
   ]
  },
  {
   "cell_type": "code",
   "execution_count": 16,
   "id": "a337c3ad",
   "metadata": {},
   "outputs": [
    {
     "data": {
      "text/plain": [
       "Timestamp('2021-02-18 20:16:00')"
      ]
     },
     "execution_count": 16,
     "metadata": {},
     "output_type": "execute_result"
    }
   ],
   "source": [
    "tr.Time.max()"
   ]
  },
  {
   "cell_type": "code",
   "execution_count": 17,
   "id": "sunrise-compatibility",
   "metadata": {},
   "outputs": [
    {
     "name": "stdout",
     "output_type": "stream",
     "text": [
      "[*********************100%***********************]  1 of 1 completed\n"
     ]
    }
   ],
   "source": [
    "df_forex = yf.download(['USDEUR%3DX'], start, end)[['Adj Close']]\n",
    "df_forex = df_forex.reset_index()\n",
    "df_forex.rename({'Date':\"date\", 'Adj Close':\"rate\"}, axis = 1, inplace=1)"
   ]
  },
  {
   "cell_type": "markdown",
   "id": "committed-sleeve",
   "metadata": {},
   "source": [
    "### identify tickers not downloaded"
   ]
  },
  {
   "cell_type": "code",
   "execution_count": 18,
   "id": "dated-tolerance",
   "metadata": {},
   "outputs": [],
   "source": [
    "mask = data.isna().mean() == 1.0"
   ]
  },
  {
   "cell_type": "code",
   "execution_count": null,
   "id": "based-creator",
   "metadata": {},
   "outputs": [],
   "source": [
    "not_found = mask.loc[mask].keys().values"
   ]
  },
  {
   "cell_type": "code",
   "execution_count": null,
   "id": "crazy-machinery",
   "metadata": {
    "scrolled": true
   },
   "outputs": [],
   "source": [
    "print(f'these tickers are not included in the time history: {not_found}')"
   ]
  },
  {
   "cell_type": "markdown",
   "id": "found-favor",
   "metadata": {},
   "source": [
    "### combine yahoo time history with transaction data"
   ]
  },
  {
   "cell_type": "code",
   "execution_count": null,
   "id": "simple-tomato",
   "metadata": {},
   "outputs": [],
   "source": [
    "# retrieve stock value at close\n",
    "def ticker_price_history(data, ticker):\n",
    "    \"\"\"filter time history of the specifed ticker, history of ticker close price \"\"\"\n",
    "    tts_sub = data[ticker]  # ticker time series\n",
    "    tts_sub = tts_sub.reset_index()\n",
    "#     tts_sub.columns = tts_sub.columns.droplevel()\n",
    "    tts_sub.columns = ['time_ts', 'close_price']\n",
    "\n",
    "    return tts_sub"
   ]
  },
  {
   "cell_type": "code",
   "execution_count": null,
   "id": "earlier-offer",
   "metadata": {},
   "outputs": [],
   "source": [
    "def merge_histories(tr_sub, tts_sub, ticker):\n",
    "    \"\"\"merge dataframe based on date and time\n",
    "\n",
    "    note: invested amount is determined based on the market price at close, rather than the transaction record\n",
    "    \"\"\"\n",
    "    merged = tts_sub.merge(right=tr_sub, left_on='time_ts',\n",
    "                           right_on='Time', how=\"outer\")\n",
    "    merged = merged.merge(df_forex, left_on = 'time_ts', right_on='date')\n",
    "    merged['cum_shares'] = merged['cum_shares'].fillna(method='ffill')\n",
    "    merged['value'] = merged['close_price']*merged['cum_shares']*merged['rate']\n",
    "    merged['ticker'] = ticker\n",
    "    merged['cum_total_eur'] = merged['cum_total_eur'].fillna(\n",
    "        method='ffill')\n",
    "    merged['value'] = merged['value'].fillna(\n",
    "        method='ffill')\n",
    "    return merged"
   ]
  },
  {
   "cell_type": "code",
   "execution_count": null,
   "id": "owned-porter",
   "metadata": {},
   "outputs": [],
   "source": [
    "# loop it through for all the tickers:\n",
    "dfs = []\n",
    "groups = tr.groupby(by='Ticker')\n",
    "tickers = data.columns\n",
    "\n",
    "for ticker in tickers:\n",
    "    if ticker not in not_found:\n",
    "        # share_no_history(tr_pivoted,ticker)\n",
    "        tr_sub = groups.get_group(\n",
    "            ticker).copy()[['Time', 'Ticker', 'Action', 'No. of shares', 'cum_shares', 'cum_total_eur', 'profit_eur']]\n",
    "        tr_sub['Time']=tr_sub[\"Time\"].dt.floor(\"d\")\n",
    "        tts_sub = ticker_price_history(data, ticker)\n",
    "        df = merge_histories(tr_sub, tts_sub, ticker)\n",
    "\n",
    "        dfs.append(df)\n",
    "    else:\n",
    "        print(f'{ticker} not in the database')\n",
    "\n",
    "df_combined = pd.concat(dfs)"
   ]
  },
  {
   "cell_type": "markdown",
   "id": "historical-encyclopedia",
   "metadata": {},
   "source": [
    "## monthly transaction overview"
   ]
  },
  {
   "cell_type": "markdown",
   "id": "naughty-jimmy",
   "metadata": {},
   "source": [
    "Hereby I will create an overview of total transacations"
   ]
  },
  {
   "cell_type": "code",
   "execution_count": null,
   "id": "vocational-fleece",
   "metadata": {},
   "outputs": [],
   "source": [
    "mt = (\n",
    "    tr.groupby(by=[pd.Grouper(key=\"Time\", freq=\"M\"), \"Action\"])[\"Action\"]\n",
    "    .count()\n",
    "    .rename(\"transactions\")\n",
    "    .reset_index()\n",
    ")  # montly transaction"
   ]
  },
  {
   "cell_type": "code",
   "execution_count": null,
   "id": "individual-revision",
   "metadata": {},
   "outputs": [],
   "source": [
    "fig = go.Figure()\n",
    "\n",
    "# reformat the date_time to provide a monthly summary (do not show the date)\n",
    "mt['mnth_yr'] = mt['Time'].apply(lambda x: x.strftime('%b-%Y'))\n",
    "\n",
    "for action in ['buy', 'sell']:\n",
    "    mt_ = mt.loc[mt['Action'] == action]\n",
    "    fig.add_trace(go.Bar(\n",
    "        x=mt_.mnth_yr,\n",
    "        y=mt_.transactions,\n",
    "        name=action,\n",
    "    ))\n",
    "\n",
    "fig.update_layout(barmode='group', xaxis_tickangle=-45, title_text='monthly transactions overview',\n",
    "                  yaxis=dict(\n",
    "                      title='transaction counts',\n",
    "                  ))\n",
    "fig.show()"
   ]
  },
  {
   "cell_type": "markdown",
   "id": "9f5acad6",
   "metadata": {},
   "source": [
    "## transaction over the week"
   ]
  },
  {
   "cell_type": "code",
   "execution_count": null,
   "id": "5bc4d71b",
   "metadata": {},
   "outputs": [],
   "source": [
    "# weekday with the most frequent transactions\n",
    "# tr_ = read_transactions(fln, floor=False)\n",
    "day_names = tr.Time.dt.day_name()\n",
    "\n",
    "# time of the day when most likely to trade\n",
    "hours = tr.Time.round('1h').dt.time\n",
    "hours.value_counts().idxmax()"
   ]
  },
  {
   "cell_type": "code",
   "execution_count": null,
   "id": "8e326a42",
   "metadata": {},
   "outputs": [],
   "source": [
    "from plotly.subplots import make_subplots\n",
    "\n",
    "fig = go.Figure()\n",
    "\n",
    "fig = make_subplots(rows=1, cols=2, subplot_titles=[\n",
    "                    'distribution over the day', 'transactions distribution over the week'])\n",
    "\n",
    "fig.add_trace(go.Histogram(\n",
    "    x=sorted(hours),\n",
    "), row=1, col=1)\n",
    "\n",
    "m = [\"Monday\", \"Tuesday\", \"Wednesday\", \"Thursday\", \"Friday\"]\n",
    "fig.add_trace(go.Histogram(\n",
    "    x=sorted(day_names, key=m.index),\n",
    "), row=1, col=2)\n",
    "\n",
    "fig.update_xaxes(title_text='time of day', row=1, col=1, tickformat=\"%H:%M\")\n",
    "fig.update_yaxes(title_text='counts', row=1, col=1)\n",
    "\n",
    "\n",
    "fig.update_xaxes(\n",
    "    title_text='day of a week',\n",
    "    row=1, col=2,\n",
    "    tickformat=\"%H-%M-%S\"\n",
    ")\n",
    "fig.update_yaxes(title_text='counts', row=1, col=2)\n",
    "\n",
    "fig.update_layout(bargap=0.2)\n",
    "fig.update_layout(showlegend=False) \n",
    "fig.show()"
   ]
  },
  {
   "cell_type": "code",
   "execution_count": null,
   "id": "bcda3385",
   "metadata": {},
   "outputs": [],
   "source": [
    "print(f\"You are more likely to trade on {day_names.value_counts().idxmax()} than the other weekdays. When looking at the distribution over the day, {hours.value_counts().idxmax():%H} o'clock is the peak hour for you to place an order.\")"
   ]
  },
  {
   "cell_type": "markdown",
   "id": "verbal-american",
   "metadata": {},
   "source": [
    "## latest portofolio\n",
    "\n",
    "1. what are the stocks in my pf?\n",
    "1. total value (weekly overview)"
   ]
  },
  {
   "cell_type": "markdown",
   "id": "signed-summer",
   "metadata": {},
   "source": [
    "### pie chart of portofolio composition"
   ]
  },
  {
   "cell_type": "code",
   "execution_count": null,
   "id": "028190f2",
   "metadata": {},
   "outputs": [],
   "source": [
    "df_combined"
   ]
  },
  {
   "cell_type": "code",
   "execution_count": null,
   "id": "4bd3b62d",
   "metadata": {},
   "outputs": [],
   "source": [
    "(end - timedelta(1))"
   ]
  },
  {
   "cell_type": "code",
   "execution_count": null,
   "id": "turned-andrews",
   "metadata": {},
   "outputs": [],
   "source": [
    "df_ = df_combined.loc[(df_combined['time_ts'] == (end -\n",
    "                           timedelta(1)).floor('1d')) & (df_combined['cum_shares'] > 0.25)]\n",
    "df_ = df_.drop_duplicates(\n",
    "    subset=['time_ts', 'Ticker'], keep='last', inplace=False, ignore_index=False)\n",
    "\n",
    "fig22 = px.pie(df_, values='value', names='Ticker',\n",
    "               title='portofolio composition')"
   ]
  },
  {
   "cell_type": "code",
   "execution_count": null,
   "id": "43a3f890",
   "metadata": {},
   "outputs": [],
   "source": [
    "fig22"
   ]
  },
  {
   "cell_type": "markdown",
   "id": "satisfied-surrey",
   "metadata": {},
   "source": [
    "### line plot for portofolio ts"
   ]
  },
  {
   "cell_type": "code",
   "execution_count": null,
   "id": "aquatic-engineer",
   "metadata": {},
   "outputs": [],
   "source": [
    "df_combined = df_combined.drop_duplicates(\n",
    "    subset=['time_ts', 'ticker'], keep='last', inplace=False, ignore_index=False)"
   ]
  },
  {
   "cell_type": "code",
   "execution_count": null,
   "id": "romantic-retail",
   "metadata": {},
   "outputs": [],
   "source": [
    "df_agg = df_combined.pivot_table(index='time_ts', values=[\n",
    "                                 'value', 'cum_total_eur', 'profit_eur'], aggfunc='sum').reset_index()"
   ]
  },
  {
   "cell_type": "code",
   "execution_count": null,
   "id": "executive-asbestos",
   "metadata": {},
   "outputs": [],
   "source": [
    "df_agg=df_agg.rename({\"time_ts\":'time',\n",
    "              'value':'open position value',\n",
    "              'cum_total_eur':'invested amount'}, axis =1)\n",
    "df_agg['realized profit'] = df_agg['profit_eur'].cumsum()\n",
    "df_agg['floating profit'] = df_agg['open position value'] - df_agg['invested amount']"
   ]
  },
  {
   "cell_type": "code",
   "execution_count": null,
   "id": "invisible-throw",
   "metadata": {},
   "outputs": [],
   "source": [
    "\n",
    "# df_agg[]\n",
    "fig = px.line(df_agg, x=\"time\", y=['open position value','invested amount'],\n",
    "              hover_data={\"time\": \"|%B %d, %Y\"},\n",
    "              title='Overview',\n",
    "              )\n",
    "\n",
    "fig.data[0].name = 'open positions'\n",
    "fig.data[1].name = 'invested amount'\n",
    "fig.update_xaxes(\n",
    "    dtick=\"M1\",\n",
    "    tickformat=\"%b\\n%Y\")\n",
    "\n",
    "fig.update_layout(hovermode=\"x\", )\n",
    "fig.update_layout(legend_title_text= 'total value of:') \n",
    "fig.update_yaxes(title='EUR')\n",
    "fig.update_traces(showlegend=True)\n",
    "\n",
    "fig.show()"
   ]
  },
  {
   "cell_type": "markdown",
   "id": "circular-guyana",
   "metadata": {},
   "source": [
    "### brief summary"
   ]
  },
  {
   "cell_type": "code",
   "execution_count": null,
   "id": "unsigned-finland",
   "metadata": {},
   "outputs": [],
   "source": [
    "last_row = df_agg.tail(1)"
   ]
  },
  {
   "cell_type": "code",
   "execution_count": null,
   "id": "6973c53a",
   "metadata": {},
   "outputs": [],
   "source": [
    "# fig.data"
   ]
  },
  {
   "cell_type": "code",
   "execution_count": null,
   "id": "english-console",
   "metadata": {},
   "outputs": [],
   "source": [
    "print('A brief summary')\n",
    "print(\"You started investing with Trading 212 on {:}.\".format(\n",
    "    start.strftime(\"%b %d, %Y\")))\n",
    "print(\"Upon {:}, you've invested {:0.2f} EUR in the market, with a floating profit of {:0.2f} EUR. Total realized profit amounts {:0.2f} EUR\".format(\n",
    "    end.strftime(\"%b %d, %Y\"), \n",
    "    last_row['invested amount'].values[0],\n",
    "    last_row[\"floating profit\"].values[0],\n",
    "    last_row[\"realized profit\"].values[0]))"
   ]
  },
  {
   "cell_type": "markdown",
   "id": "creative-concord",
   "metadata": {},
   "source": [
    "### line plot of profit and loss"
   ]
  },
  {
   "cell_type": "code",
   "execution_count": null,
   "id": "revised-prison",
   "metadata": {},
   "outputs": [],
   "source": [
    "\n",
    "fig = px.line(df_agg, x=\"time\", y=['floating profit','realized profit'],\n",
    "              hover_data={\"time\": \"|%B %d, %Y\"},\n",
    "              title='Overview'\n",
    "              )\n",
    "\n",
    "\n",
    "fig.add_trace(go.Scatter(\n",
    "    name=\"total\",\n",
    "    x=df_agg[\"time\"], y=df_agg['floating profit'] + df_agg['realized profit'],\n",
    "))\n",
    "\n",
    "fig.update_xaxes(\n",
    "    dtick=\"M1\",\n",
    "    tickformat=\"%b\\n%Y\")\n",
    "\n",
    "fig.update_layout(hovermode=\"x\")\n",
    "\n",
    "fig.show()"
   ]
  },
  {
   "cell_type": "markdown",
   "id": "effective-runner",
   "metadata": {},
   "source": [
    "## stock analysis"
   ]
  },
  {
   "cell_type": "markdown",
   "id": "bigger-society",
   "metadata": {},
   "source": [
    "### correlation analysis"
   ]
  },
  {
   "cell_type": "code",
   "execution_count": null,
   "id": "legitimate-trouble",
   "metadata": {},
   "outputs": [],
   "source": [
    "from matplotlib import pyplot as plt\n",
    "cols = df_.Ticker.dropna().unique()\n",
    "retscomp = data.loc[:,  cols]\n",
    "retscomp = retscomp.pct_change()\n",
    "corr = retscomp.corr()"
   ]
  },
  {
   "cell_type": "code",
   "execution_count": null,
   "id": "blind-right",
   "metadata": {},
   "outputs": [],
   "source": [
    "import plotly.graph_objects as go\n",
    "\n",
    "fig = go.Figure(data=go.Heatmap(\n",
    "    z=corr,\n",
    "    x=cols,\n",
    "    y=cols,\n",
    "    colorscale='Hot',\n",
    "    reversescale=True,\n",
    "    zmax=1.0,\n",
    "    zmin=0.0))\n",
    "\n",
    "fig.update_layout(\n",
    "    autosize=False,\n",
    "    width=600,\n",
    "    height=600,)\n",
    "\n",
    "fig.show()"
   ]
  },
  {
   "cell_type": "markdown",
   "id": "alternate-vulnerability",
   "metadata": {},
   "source": [
    "### Stocks mean and Risk calculation"
   ]
  },
  {
   "cell_type": "code",
   "execution_count": null,
   "id": "pharmaceutical-leisure",
   "metadata": {},
   "outputs": [],
   "source": [
    "y=retscomp.std()"
   ]
  },
  {
   "cell_type": "code",
   "execution_count": null,
   "id": "provincial-casting",
   "metadata": {},
   "outputs": [],
   "source": [
    "\n",
    "fig = px.scatter(x=retscomp.mean(), y=retscomp.std(), text=cols)\n",
    "fig.update_traces(textposition='top center')\n",
    "fig.update_layout(\n",
    "#     height=800,\n",
    "    title_text='Return and Risk',\n",
    "    xaxis_title=\"Return\",\n",
    "    yaxis_title=\"Risk\",\n",
    ")\n",
    "fig.show()"
   ]
  },
  {
   "cell_type": "markdown",
   "id": "strong-temple",
   "metadata": {},
   "source": [
    "## performance of each stock over time "
   ]
  },
  {
   "cell_type": "code",
   "execution_count": null,
   "id": "virtual-domain",
   "metadata": {},
   "outputs": [],
   "source": [
    "pd.options.plotting.backend = \"plotly\" "
   ]
  },
  {
   "cell_type": "code",
   "execution_count": null,
   "id": "romance-content",
   "metadata": {},
   "outputs": [],
   "source": [
    "# get the tickers with the largest share in the portofolio \n",
    "df_end_sorted = df_end.sort_values(by='value', ascending=False)\n",
    "tickers = df_end_sorted.iloc[0:5]['ticker'].values"
   ]
  },
  {
   "cell_type": "code",
   "execution_count": null,
   "id": "injured-alert",
   "metadata": {},
   "outputs": [],
   "source": [
    "def pct_change(x): \n",
    "    x_ = x.fillna(method='bfill')\n",
    "    return x_.div(x_.iloc[0]).subtract(1)"
   ]
  },
  {
   "cell_type": "code",
   "execution_count": null,
   "id": "linear-sussex",
   "metadata": {},
   "outputs": [],
   "source": [
    "# slice the selected tickers \n",
    "# df_combined['close_price_pct_change'] = df_combined['close_price'].pct_change()\n",
    "ticker_mask = df_combined.ticker.isin(tickers)\n",
    "df_combined['pct_change'] = df_combined.groupby('ticker')['close_price'].apply(\n",
    "    lambda x: pct_change(x))\n",
    "\n",
    "df_ = df_combined.loc[ticker_mask]"
   ]
  },
  {
   "cell_type": "code",
   "execution_count": null,
   "id": "protected-drove",
   "metadata": {},
   "outputs": [],
   "source": [
    "# symbol price history\n",
    "fig = px.line(df_combined, x=\"time_ts\",\n",
    "              y=\"pct_change\", color='ticker')\n",
    "\n",
    "# add my transaction records\n",
    "fig.add_trace(px.scatter(df_combined.dropna(\n",
    "    subset=['Action']), x=\"time_ts\", y=\"pct_change\", color='Action').data[0])\n",
    "\n",
    "fig.show()"
   ]
  },
  {
   "cell_type": "code",
   "execution_count": null,
   "id": "naughty-delay",
   "metadata": {},
   "outputs": [],
   "source": []
  },
  {
   "cell_type": "code",
   "execution_count": null,
   "id": "073228c8",
   "metadata": {},
   "outputs": [],
   "source": []
  }
 ],
 "metadata": {
  "kernelspec": {
   "display_name": "Python 3",
   "language": "python",
   "name": "python3"
  },
  "language_info": {
   "codemirror_mode": {
    "name": "ipython",
    "version": 3
   },
   "file_extension": ".py",
   "mimetype": "text/x-python",
   "name": "python",
   "nbconvert_exporter": "python",
   "pygments_lexer": "ipython3",
   "version": "3.8.8"
  },
  "toc": {
   "base_numbering": 1,
   "nav_menu": {},
   "number_sections": true,
   "sideBar": true,
   "skip_h1_title": false,
   "title_cell": "Table of Contents",
   "title_sidebar": "Contents",
   "toc_cell": false,
   "toc_position": {
    "height": "calc(100% - 180px)",
    "left": "10px",
    "top": "150px",
    "width": "165px"
   },
   "toc_section_display": true,
   "toc_window_display": true
  }
 },
 "nbformat": 4,
 "nbformat_minor": 5
}
